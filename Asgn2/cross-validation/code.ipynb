{
 "cells": [
  {
   "cell_type": "markdown",
   "id": "58ad8222",
   "metadata": {},
   "source": [
    "# Assignment 1\n",
    "\n",
    "Name: Pola Gnana Shekar\n",
    "\n",
    "roll No: 21CS10052"
   ]
  },
  {
   "cell_type": "code",
   "execution_count": 1,
   "id": "8f6c4dd1",
   "metadata": {},
   "outputs": [
    {
     "name": "stdout",
     "output_type": "stream",
     "text": [
      "(614, 13)\n"
     ]
    }
   ],
   "source": [
    "# import all the necessary libraries here\n",
    "import pandas as pd\n",
    "\n",
    "df = pd.read_csv('../../dataset/cross-validation.csv')\n",
    "print(df.shape)"
   ]
  },
  {
   "cell_type": "code",
   "execution_count": 2,
   "id": "dd638070",
   "metadata": {},
   "outputs": [
    {
     "name": "stdout",
     "output_type": "stream",
     "text": [
      "Train set size: 491\n",
      "Test set size: 123\n"
     ]
    }
   ],
   "source": [
    "import pandas as pd\n",
    "from sklearn.model_selection import train_test_split\n",
    "\n",
    "# Load the dataset\n",
    "data = pd.read_csv(\"../../dataset/cross-validation.csv\")\n",
    "\n",
    "# Divide the data into features (X) and target (y)\n",
    "X = data.drop(\"Loan_Status\", axis=1)\n",
    "y = data[\"Loan_Status\"]\n",
    "\n",
    "# Split the data into 80% train and 20% test\n",
    "X_train, X_test, y_train, y_test = train_test_split(X, y, test_size=0.2, random_state=42)\n",
    "\n",
    "# Print the sizes of the split datasets\n",
    "print(\"Train set size:\", X_train.shape[0])\n",
    "print(\"Test set size:\", X_test.shape[0])"
   ]
  },
  {
   "cell_type": "code",
   "execution_count": 6,
   "id": "83b76ed0",
   "metadata": {},
   "outputs": [
    {
     "name": "stdout",
     "output_type": "stream",
     "text": [
      "Mean Accuracy: 0.7962481962481962\n",
      "Mean Precision: 0.7875964475473237\n",
      "Mean Recall: 0.9651490045441993\n"
     ]
    }
   ],
   "source": [
    "import pandas as pd\n",
    "import numpy as np\n",
    "from sklearn.linear_model import LogisticRegression\n",
    "import warnings\n",
    "warnings.filterwarnings(\"ignore\", category=UserWarning)\n",
    "\n",
    "# Load the dataset\n",
    "data = pd.read_csv(\"../../dataset/cross-validation.csv\")\n",
    "\n",
    "# Drop the Loan_ID column as it's not needed for modeling\n",
    "data = data.drop(\"Loan_ID\", axis=1)\n",
    "\n",
    "# Convert Dependents column to numeric values\n",
    "data['Dependents'] = data['Dependents'].replace('3+', 3).astype(float)\n",
    "\n",
    "# Encode categorical variables using one-hot encoding\n",
    "data = pd.get_dummies(data, columns=['Gender', 'Married', 'Education', 'Self_Employed', 'Property_Area'], drop_first=True)\n",
    "\n",
    "# Handle missing values (for simplicity, let's fill missing values with column means)\n",
    "columns_with_missing_values = ['Dependents', 'LoanAmount', 'Loan_Amount_Term', 'Credit_History']\n",
    "for column in columns_with_missing_values:\n",
    "    data[column].fillna(data[column].mean(), inplace=True)\n",
    "\n",
    "# Split the data into features (X) and target (y)\n",
    "X = data.drop(\"Loan_Status\", axis=1)\n",
    "y = (data[\"Loan_Status\"] == 'Y').astype(int)  # Convert 'Y' to 1 and 'N' to 0\n",
    "\n",
    "\n",
    "# Split the data into 80% train and 20% test\n",
    "train_size = int(0.8 * len(data))\n",
    "X_train, X_test = X[:train_size], X[train_size:]\n",
    "y_train, y_test = y[:train_size], y[train_size:]\n",
    "\n",
    "# Normalize the data\n",
    "X_train = (X_train - X_train.mean()) / X_train.std()\n",
    "X_test = (X_test - X_train.mean()) / X_train.std()  # Use training mean and std for normalization\n",
    "\n",
    "# Train the Logistic Regression model using scikit-learn's LogisticRegression\n",
    "def logistic_regression_saga(X, y, max_iter):\n",
    "    model = LogisticRegression(penalty='none', solver='saga', max_iter=max_iter, fit_intercept=False)\n",
    "    model.fit(X, y)\n",
    "    weights = model.coef_[0]\n",
    "    return weights\n",
    "\n",
    "# Train the Logistic Regression model using the saga solver\n",
    "num_epochs = 1000\n",
    "weights = logistic_regression_saga(X_train, y_train, max_iter=num_epochs)\n",
    "\n",
    "# Cross Validation logic using scikit-learn's LogisticRegression\n",
    "k = 5\n",
    "fold_size = len(X_train) // k\n",
    "accuracies = []\n",
    "precisions = []\n",
    "recalls = []\n",
    "\n",
    "for i in range(k):\n",
    "    start = i * fold_size\n",
    "    end = (i + 1) * fold_size if i < k - 1 else len(X_train)\n",
    "    \n",
    "    X_val_fold = X_train[start:end]\n",
    "    y_val_fold = y_train[start:end]\n",
    "    \n",
    "    X_train_fold = np.concatenate((X_train[:start], X_train[end:]))\n",
    "    y_train_fold = np.concatenate((y_train[:start], y_train[end:]))\n",
    "    \n",
    "    weights_fold = logistic_regression_saga(X_train_fold, y_train_fold, max_iter=num_epochs)\n",
    "    \n",
    "    model_fold = LogisticRegression(penalty='none', solver='saga', max_iter=num_epochs)\n",
    "    model_fold.fit(X_train_fold, y_train_fold)\n",
    "    \n",
    "    y_pred_fold = model_fold.predict(X_val_fold)\n",
    "    \n",
    "    accuracy_fold = np.mean(y_pred_fold == y_val_fold)\n",
    "    precision_fold = np.sum(y_pred_fold * y_val_fold) / np.sum(y_pred_fold)\n",
    "    recall_fold = np.sum(y_pred_fold * y_val_fold) / np.sum(y_val_fold)\n",
    "    \n",
    "    accuracies.append(accuracy_fold)\n",
    "    precisions.append(precision_fold)\n",
    "    recalls.append(recall_fold)\n",
    "\n",
    "mean_accuracy = np.mean(accuracies)\n",
    "mean_precision = np.mean(precisions)\n",
    "mean_recall = np.mean(recalls)\n",
    "\n",
    "print(\"Mean Accuracy:\", mean_accuracy)\n",
    "print(\"Mean Precision:\", mean_precision)\n",
    "print(\"Mean Recall:\", mean_recall)"
   ]
  }
 ],
 "metadata": {
  "kernelspec": {
   "display_name": "Python 3 (ipykernel)",
   "language": "python",
   "name": "python3"
  },
  "language_info": {
   "codemirror_mode": {
    "name": "ipython",
    "version": 3
   },
   "file_extension": ".py",
   "mimetype": "text/x-python",
   "name": "python",
   "nbconvert_exporter": "python",
   "pygments_lexer": "ipython3",
   "version": "3.9.13"
  }
 },
 "nbformat": 4,
 "nbformat_minor": 5
}
